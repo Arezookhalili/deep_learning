{
 "cells": [
  {
   "cell_type": "markdown",
   "metadata": {},
   "source": [
    "# Training Neural Networks with Keras\n",
    "\n",
    "Welcome to the first practical session of the course! In this session, we will learn how to train neural networks with Keras. We will start with a simple example of a feedforward neural network for classification and then we will study the impact of the initialization of the weights on the convergence of the training algorithm.\n",
    "\n",
    "Keras is a high-level neural network API, built on top of TensorFlow 2.0. It provides a user-friendly interface to build, train and deploy deep learning models. Keras is designed to be modular, fast and easy to use.\n",
    "\n",
    "Throughout this course, we will focus on using Keras and TensorFlow for building and training neural networks. However, there are other popular deep learning frameworks such as PyTorch, MXNet, CNTK, etc. that you can also use to build and train neural networks.\n",
    "\n",
    "In order to use our code on Google Colab, we will need to ensure that any required packages are installed. We will use the following packages in this session:\n",
    "\n",
    "- `tensorflow`: an open-source library for numerical computation and large-scale machine learning.\n",
    "- `matplotlib`: a plotting library for the Python programming language and its numerical mathematics extension NumPy.\n",
    "- `numpy`: a library for scientific computing in Python.\n",
    "- `scikit-learn`: a machine learning library for the Python programming language.\n",
    "- `pandas`: a library providing high-performance, easy-to-use data structures and data analysis tools for the Python programming language.\n",
    "\n",
    "The following cell will check if the packages are installed, and if not, it will install them. Students familiar with how pip works might note that it already checks this before installing! The reason for this code (which will also appear in subsequent notebooks) is to speed up execution if you re-run the entire notebook - it will skip the installation step if the packages are already installed."
   ]
  },
  {
   "cell_type": "markdown",
   "metadata": {
    "collapsed": false
   },
   "source": [
    "With the packages installed, we can now get started on the practical session!\n",
    "\n",
    "Today, we will be working with the famous MNIST dataset. MNIST (Modified National Institute of Standards and Technology) is a database of low resolution images of handwritten digits. The history here is interesting - the dataset was originally created in the 1980s, when researchers from the aforementioned institute collected samples from American Census Bureau employees and high school students. The dataset was then modified in the 1990s (hence the M in MNIST), and has since become a popular benchmark for machine learning algorithms. \n",
    "\n",
    "The dataset contains images, each of which is a 28x28 grayscale image of a handwritten digit. The goal is to classify each image into one of the 10 possible classes (0-9).\n",
    "\n",
    "![MNIST](https://upload.wikimedia.org/wikipedia/commons/2/27/MnistExamples.png)\n",
    "\n",
    "The Scikit-Learn library provides a convenient function to download and load the MNIST dataset. The following cell will download the dataset. Then we will take a look at the shape of the data."
   ]
  },
  {
   "cell_type": "code",
   "execution_count": 1,
   "metadata": {},
   "outputs": [],
   "source": [
    "import matplotlib.pyplot as plt\n",
    "import numpy as np\n",
    "\n",
    "from sklearn.datasets import load_digits\n",
    "\n",
    "digits = load_digits()"
   ]
  },
  {
   "cell_type": "code",
   "execution_count": 2,
   "metadata": {},
   "outputs": [
    {
     "data": {
      "text/plain": [
       "(1797, 8, 8)"
      ]
     },
     "execution_count": 2,
     "metadata": {},
     "output_type": "execute_result"
    }
   ],
   "source": [
    "digits.images.shape"
   ]
  },
  {
   "cell_type": "markdown",
   "metadata": {
    "collapsed": false
   },
   "source": [
    "This means that we have 1797 images, each of which is a 8x8 image. For basic image processing, we will need to flatten the images into a 1D array. In this case, Scikit-Learn has already provided the data in this format too:"
   ]
  },
  {
   "cell_type": "code",
   "execution_count": 3,
   "metadata": {},
   "outputs": [
    {
     "data": {
      "text/plain": [
       "(1797, 64)"
      ]
     },
     "execution_count": 3,
     "metadata": {},
     "output_type": "execute_result"
    }
   ],
   "source": [
    "digits.data.shape"
   ]
  },
  {
   "cell_type": "markdown",
   "metadata": {
    "collapsed": false
   },
   "source": [
    "For each image, we also have the corresponding label (or target, or class) in `digits.target`:"
   ]
  },
  {
   "cell_type": "code",
   "execution_count": 4,
   "metadata": {},
   "outputs": [
    {
     "data": {
      "text/plain": [
       "(1797,)"
      ]
     },
     "execution_count": 4,
     "metadata": {},
     "output_type": "execute_result"
    }
   ],
   "source": [
    "digits.target.shape"
   ]
  },
  {
   "cell_type": "code",
   "execution_count": 5,
   "metadata": {},
   "outputs": [
    {
     "data": {
      "text/plain": [
       "array([1361,  376,   74,  927,  771, 1706,  494,   75, 1106])"
      ]
     },
     "execution_count": 5,
     "metadata": {},
     "output_type": "execute_result"
    }
   ],
   "source": [
    "np.random.choice(len(digits.images), 9, replace=False)"
   ]
  },
  {
   "cell_type": "markdown",
   "metadata": {
    "collapsed": false
   },
   "source": [
    "We can take a look at some random images from the dataset. The following cell will select 9 random images and plot them in a 3x3 grid (meaning that you can rerun the cell to see different images)."
   ]
  },
  {
   "cell_type": "code",
   "execution_count": 6,
   "metadata": {},
   "outputs": [
    {
     "data": {
      "image/png": "[encoded data removed]",
      "text/plain": [
       "<Figure size 600x600 with 9 Axes>"
      ]
     },
     "metadata": {},
     "output_type": "display_data"
    }
   ],
   "source": [
    "# Selecting 9 random indices\n",
    "random_indices = np.random.choice(len(digits.images), 9, replace=False)\n",
    "\n",
    "# Creating a 3x3 grid plot\n",
    "fig, axes = plt.subplots(3, 3, figsize=(6, 6))\n",
    "\n",
    "for i, ax in enumerate(axes.flat):\n",
    "    ax.imshow(digits.images[random_indices[i]], cmap=plt.cm.gray_r, interpolation='nearest')\n",
    "    ax.set_title(f\"Label: {digits.target[random_indices[i]]}\")\n",
    "\n",
    "    # Removing axis labels\n",
    "    ax.set_xticks([])\n",
    "    ax.set_yticks([])\n",
    "\n",
    "plt.show()"
   ]
  },
  {
   "cell_type": "markdown",
   "metadata": {
    "collapsed": false
   },
   "source": [
    "As you can see, these images are very low resolution. This is because they were originally scanned from paper forms, and then scaled down to 8x8 pixels. This is a common problem in machine learning - the quality of the data is often a limiting factor in the performance of the model. In this case, the low resolution of the images makes it difficult to distinguish between some digits, even for humans. For example, the following images are all labelled as 9, but they look very different:"
   ]
  },
  {
   "cell_type": "code",
   "execution_count": 7,
   "metadata": {
    "collapsed": false
   },
   "outputs": [
    {
     "data": {
      "image/png": "[encoded data removed]",
      "text/plain": [
       "<Figure size 600x600 with 9 Axes>"
      ]
     },
     "metadata": {},
     "output_type": "display_data"
    }
   ],
   "source": [
    "# Selecting 9 random indices of images labelled as 9\n",
    "random_indices = np.random.choice(np.where(digits.target == 9)[0], 9, replace=False)\n",
    "\n",
    "# Creating a 3x3 grid plot\n",
    "fig, axes = plt.subplots(3, 3, figsize=(6, 6))\n",
    "\n",
    "for i, ax in enumerate(axes.flat):\n",
    "    ax.imshow(digits.images[random_indices[i]], cmap=plt.cm.gray_r, interpolation='nearest')\n",
    "    ax.set_title(f\"Label: {digits.target[random_indices[i]]}\")\n",
    "\n",
    "    # Removing axis labels\n",
    "    ax.set_xticks([])\n",
    "    ax.set_yticks([])\n",
    "    \n",
    "plt.show()"
   ]
  },
  {
   "cell_type": "markdown",
   "metadata": {
    "collapsed": false
   },
   "source": [
    "While we are plotting the samples as images, remember that our model is only going to see a 1D array of numbers. "
   ]
  },
  {
   "cell_type": "markdown",
   "metadata": {},
   "source": [
    "## Train / Test Split\n",
    "\n",
    "In order to understand how well our model performs on _new_ data, we need to split our dataset into a training set and a test set. The training set will be used to train the model, and the test set will be used to evaluate the performance of the model.\n",
    "\n",
    "Let's keep some held-out data to be able to measure the generalization performance of our model. "
   ]
  },
  {
   "cell_type": "code",
   "execution_count": 8,
   "metadata": {},
   "outputs": [],
   "source": [
    "from sklearn.model_selection import train_test_split\n",
    "\n",
    "\n",
    "X_train, X_test, y_train, y_test = train_test_split(\n",
    "    digits.data, \n",
    "    digits.target,\n",
    "    test_size=0.2, # 20% of the data is used for testing\n",
    "    random_state=42 # Providing a value here means getting the same \"random\" split every time\n",
    ")"
   ]
  },
  {
   "cell_type": "markdown",
   "metadata": {
    "collapsed": false
   },
   "source": [
    "Let's confirm that the data has been split correctly:"
   ]
  },
  {
   "cell_type": "code",
   "execution_count": 9,
   "metadata": {
    "collapsed": false
   },
   "outputs": [
    {
     "name": "stdout",
     "output_type": "stream",
     "text": [
      "X_train shape: (1437, 64)\n",
      "y_train shape: (1437,)\n",
      "X_test shape: (360, 64)\n",
      "y_test shape: (360,)\n"
     ]
    }
   ],
   "source": [
    "print(f'X_train shape: {X_train.shape}')\n",
    "print(f'y_train shape: {y_train.shape}')\n",
    "print(f'X_test shape: {X_test.shape}')\n",
    "print(f'y_test shape: {y_test.shape}')"
   ]
  },
  {
   "cell_type": "markdown",
   "metadata": {
    "collapsed": false
   },
   "source": [
    "This is what we expected to see. It's always good to check as you go, to make sure that you haven't made a mistake somewhere - this is something that working in a notebook like this makes it easy to do."
   ]
  },
  {
   "cell_type": "markdown",
   "metadata": {},
   "source": [
    "## Preprocessing of the Target Data\n",
    "\n",
    "The labels that we have are integers between 0 and 9. However, we want to train a neural network to classify the images into one of 10 classes. It can be a little counter-intuitive because we are dealing with numbers, but our classes are not ordinal.\n",
    "\n",
    "What do we mean by that? Let's imagine we were trying to predict the height of a building (separated into classes) from images. If a given building was actually 10m tall, and our model predicted 9m, we would consider that to be a better prediction than if it predicted 1m. This is because the classes are ordinal - there is meaning in the difference between the classes.\n",
    "\n",
    "In our case, even though we are dealing with numbers, the classes are not ordinal. If a given image is actually a 9, and our model predicts 8, we would consider that to be just as bad as if it predicted 1. This is because the classes are not ordered, and the difference between the classes is not meaningful.\n",
    "\n",
    "Because of this, we need to convert our labels from an integer value into a one-hot encoded vector. This means that each label will be represented as a vector of length 10, with a 1 in the position corresponding to the class, and 0s everywhere else. For example, the label 9 would be represented as `[0, 0, 0, 0, 0, 0, 0, 0, 0, 1]`. This is a common way of representing categorical data in machine learning. By doing this, we ensure that our model is taught the correct relationship between the classes."
   ]
  },
  {
   "cell_type": "code",
   "execution_count": 10,
   "metadata": {},
   "outputs": [
    {
     "name": "stdout",
     "output_type": "stream",
     "text": [
      "Before one-hot encoding: 6\n",
      "After one-hot encoding: [0. 0. 0. 0. 0. 0. 1. 0. 0. 0.]\n"
     ]
    }
   ],
   "source": [
    "from tensorflow.keras.utils import to_categorical\n",
    "\n",
    "print(f'Before one-hot encoding: {y_train[0]}')\n",
    "y_train = to_categorical(y_train, num_classes=10)\n",
    "y_test = to_categorical(y_test, num_classes=10)\n",
    "print(f'After one-hot encoding: {y_train[0]}')"
   ]
  },
  {
   "cell_type": "markdown",
   "metadata": {},
   "source": [
    "## Feed Forward Neural Networks with Keras\n",
    "\n",
    "Now that we have prepared our data, it's time to build a simple neural network! In this section, we will use the Keras API to build a simple feed forward neural network. We will then train the model on the MNIST dataset, and evaluate its performance on the test set.\n",
    "\n",
    "In most modern deep learning frameworks, the process of building a model can be broken down into a few steps:\n",
    "\n",
    "- Define the model architecture: this is where we define the layers of the model, and how they are connected to each other.\n",
    "- Compile the model: this is where we define the loss function, the optimizer, and the metrics that we want to use to evaluate the model.\n",
    "- Train the model: this is where we train the model on the training data.\n",
    "\n",
    "Let's start with defining the model architecture. There are two ways to do this in Keras - the Sequential API and the Functional API. The Sequential API is the simplest way to build a model, and is suitable for most use cases. The Functional API is more flexible, and allows you to build more complex models. We will start with the Sequential API, and then we will look at the Functional API later in the course.\n",
    "\n",
    "Our simple neural network will be \"fully-connected\". This means that each neuron in a given layer is connected to every neuron in the next layer. This is also known as a \"dense\" layer. We will use the `Dense` class from Keras to define our layers."
   ]
  },
  {
   "cell_type": "code",
   "execution_count": 11,
   "metadata": {
    "collapsed": false
   },
   "outputs": [
    {
     "name": "stdout",
     "output_type": "stream",
     "text": [
      "Model: \"sequential\"\n",
      "_________________________________________________________________\n",
      " Layer (type)                Output Shape              Param #   \n",
      "=================================================================\n",
      " dense (Dense)               (None, 64)                4160      \n",
      "                                                                 \n",
      " dense_1 (Dense)             (None, 64)                4160      \n",
      "                                                                 \n",
      " dense_2 (Dense)             (None, 10)                650       \n",
      "                                                                 \n",
      "=================================================================\n",
      "Total params: 8,970\n",
      "Trainable params: 8,970\n",
      "Non-trainable params: 0\n",
      "_________________________________________________________________\n"
     ]
    }
   ],
   "source": [
    "from tensorflow.keras.models import Sequential\n",
    "from tensorflow.keras.layers import Dense\n",
    "\n",
    "model = Sequential()\n",
    "\n",
    "# Input layer\n",
    "model.add(Dense(64, activation='relu', input_shape=(64,))) # 64 neurons, ReLU activation, input shape of 64\n",
    "\n",
    "# Hidden layer\n",
    "model.add(Dense(64, activation='relu')) # 64 neurons, ReLU activation\n",
    "\n",
    "# Output layer\n",
    "model.add(Dense(10, activation='softmax')) # 10 neurons, softmax activation\n",
    "\n",
    "model.summary()"
   ]
  },
  {
   "cell_type": "markdown",
   "metadata": {
    "collapsed": false
   },
   "source": [
    "Congratulations! You have just built your first neural network with Keras. As we can confirm from the `model.summary()` output, our model has 3 layers. The first layer has 64 neurons, the second layer has 64 neurons, and the output layer has 10 neurons. The output layer uses the softmax activation function, which is commonly used for multi-class classification problems. The other layers use the ReLU activation function, which is commonly used for hidden layers in neural networks.\n",
    "\n",
    "Next, we need to compile the model. This is where we define the loss function, the optimizer, and the metrics that we want to use to evaluate the model. We will use the `compile` method of the model to do this."
   ]
  },
  {
   "cell_type": "code",
   "execution_count": 12,
   "metadata": {
    "collapsed": false
   },
   "outputs": [],
   "source": [
    "model.compile(\n",
    "    loss='categorical_crossentropy', # Loss function\n",
    "    optimizer='sgd', # Optimizer           # default learning rate for SGD is 0.01\n",
    "    metrics=['accuracy'] # Metrics to evaluate the model\n",
    ")"
   ]
  },
  {
   "cell_type": "markdown",
   "metadata": {
    "collapsed": false
   },
   "source": [
    "Because we are predicting which class a sample belongs to, we will use the `categorical_crossentropy` function. This loss function is commonly used for multi-class classification problems. \n",
    "\n",
    "For our optimizer, we are using the standard stochastic gradient descent (SGD) algorithm. This is a simple optimizer that works well for many problems. We will look at more advanced optimizers later in the course.\n",
    "\n",
    "Finally, we are using the `accuracy` metric to evaluate the model. This is a common metric for classification problems, and it is simply the fraction of samples that are correctly classified. This is an easier metric for us to understand, but it's not quite as useful for actually training the model (for example, it doesn't tell us how \"confident\" the model is in its predictions).\n",
    "\n",
    "Now that we have (a) defined the model architecture and (b) compiled the model, we are ready to train the model. We will use the `fit` method of the model to do this."
   ]
  },
  {
   "cell_type": "code",
   "execution_count": 13,
   "metadata": {
    "collapsed": false
   },
   "outputs": [
    {
     "name": "stdout",
     "output_type": "stream",
     "text": [
      "Epoch 1/5\n",
      "36/36 [==============================] - 1s 9ms/step - loss: 1.8157 - accuracy: 0.5274 - val_loss: 0.7618 - val_accuracy: 0.7500\n",
      "Epoch 2/5\n",
      "36/36 [==============================] - 0s 3ms/step - loss: 0.5034 - accuracy: 0.8433 - val_loss: 0.4774 - val_accuracy: 0.8715\n",
      "Epoch 3/5\n",
      "36/36 [==============================] - 0s 2ms/step - loss: 0.3102 - accuracy: 0.9069 - val_loss: 0.3889 - val_accuracy: 0.8646\n",
      "Epoch 4/5\n",
      "36/36 [==============================] - 0s 3ms/step - loss: 0.2354 - accuracy: 0.9365 - val_loss: 0.3317 - val_accuracy: 0.8993\n",
      "Epoch 5/5\n",
      "36/36 [==============================] - 0s 3ms/step - loss: 0.1875 - accuracy: 0.9521 - val_loss: 0.2972 - val_accuracy: 0.9201\n"
     ]
    },
    {
     "data": {
      "text/plain": [
       "<keras.callbacks.History at 0x225da10f790>"
      ]
     },
     "execution_count": 13,
     "metadata": {},
     "output_type": "execute_result"
    }
   ],
   "source": [
    "model.fit(\n",
    "    X_train, # Training data\n",
    "    y_train, # Training labels\n",
    "    epochs=5, # Number of epochs\n",
    "    batch_size=32, # Number of samples per batch\n",
    "    validation_split=0.2 # Use 20% of the data for validation\n",
    ")"
   ]
  },
  {
   "cell_type": "markdown",
   "metadata": {
    "collapsed": false
   },
   "source": [
    "We have now trained our model! We can see that the model has been trained for 5 epochs, and the loss and accuracy have been printed for each epoch. We can also see that the model has been evaluated on the validation data at the end of each epoch. This is useful for us to see how the model is performing on data that it hasn't seen during training.\n",
    "\n",
    "Once the model is trained, it's time to evaluate the model on the test set. We can use the `evaluate` method of the model to do this. If you were building a model for a real-world application, this is the very last thing you would do, and the result here would be the figure you'd report in your paper or presentation."
   ]
  },
  {
   "cell_type": "code",
   "execution_count": 14,
   "metadata": {
    "collapsed": false
   },
   "outputs": [
    {
     "name": "stdout",
     "output_type": "stream",
     "text": [
      "12/12 [==============================] - 0s 2ms/step - loss: 0.1981 - accuracy: 0.9306\n",
      "Loss:     0.20\n",
      "Accuracy: 93.06%\n"
     ]
    }
   ],
   "source": [
    "loss, accuracy = model.evaluate(X_test, y_test)\n",
    "\n",
    "print(f'Loss:     {loss:.2f}')\n",
    "print(f'Accuracy: {accuracy*100:.2f}%')"
   ]
  },
  {
   "cell_type": "markdown",
   "metadata": {
    "collapsed": false
   },
   "source": [
    "Hopefully you have achieved an accuracy of around 95%. This is pretty good, but we can do better! In the next section, we will look at how we can improve the performance of our model by using a more advanced optimizer. But before we get there, let's do one other thing - let's look at the predictions that our model is making on the test set. When you are building a model, it's often useful to have a look at some of the examples your model is getting wrong. Sometimes this can reveal problems with the data, or it can give you ideas for how to improve your model."
   ]
  },
  {
   "cell_type": "code",
   "execution_count": 15,
   "metadata": {
    "collapsed": false
   },
   "outputs": [
    {
     "name": "stdout",
     "output_type": "stream",
     "text": [
      "12/12 [==============================] - 0s 2ms/step\n"
     ]
    },
    {
     "data": {
      "image/png": "[encoded data removed]",
      "text/plain": [
       "<Figure size 600x600 with 9 Axes>"
      ]
     },
     "metadata": {},
     "output_type": "display_data"
    }
   ],
   "source": [
    "# Get the predictions for the test data\n",
    "predictions = model.predict(X_test)\n",
    "\n",
    "# Get the index of the largest probability (i.e. the predicted class)\n",
    "predicted_classes = np.argmax(predictions, axis=1)\n",
    "true_classes = np.argmax(y_test, axis=1)\n",
    "misclassified_indices = np.where(predicted_classes != true_classes)[0]\n",
    "\n",
    "# Get the misclassified samples themselves\n",
    "misclassified_samples = X_test[misclassified_indices]\n",
    "misclassified_labels = np.argmax(y_test[misclassified_indices], axis=1)\n",
    "\n",
    "# Pick 9 random misclassified samples\n",
    "random_indices = np.random.choice(len(misclassified_indices), 9, replace=False)\n",
    "\n",
    "fig, axes = plt.subplots(3, 3, figsize=(6, 6))\n",
    "for i, ax in enumerate(axes.flat):\n",
    "    ax.imshow(misclassified_samples[random_indices[i]].reshape(8, 8), cmap=plt.cm.gray_r, interpolation='nearest')\n",
    "    ax.set_title(f\"Pred: {predicted_classes[misclassified_indices[random_indices[i]]]}, Real: {misclassified_labels[random_indices[i]]}\")\n",
    "\n",
    "    # Removing axis labels\n",
    "    ax.set_xticks([])\n",
    "    ax.set_yticks([])\n",
    "    \n",
    "plt.show()"
   ]
  },
  {
   "cell_type": "markdown",
   "metadata": {
    "collapsed": false
   },
   "source": [
    "What do you think? Would you have made the same mistakes as the model? Determining whether the mistakes are \"understandable\" is a rough way of seeing if you could improve the model further, or if this is the best you can do with the data you have."
   ]
  },
  {
   "cell_type": "markdown",
   "metadata": {},
   "source": [
    "### b) Exercises: Impact of the Optimizer\n",
    "\n",
    "In this section, you will play around with the optimizer and see how it affects the performance of the model. We will start with the standard SGD optimizer, and then we will look at more advanced optimizers.\n",
    "\n",
    "1. Try decreasing the learning rate of the SGD optimizer by a factor of 10, or 100. What do you observe?\n",
    "2. Try increasing the learning rate of the SGD optimizer. What happens?\n",
    "3. The SGD optimizer has a momentum parameter. In a nutshell, this parameter controls how much the gradient from the previous step affects the current step. Try enabling momentum in the SGD optimizer with a value of 0.9. What happens?\n",
    "  \n",
    "**Notes**: \n",
    "\n",
    "The keras API documentation is available at:\n",
    "\n",
    "https://www.tensorflow.org/api_docs/python/tf/keras\n",
    "\n",
    "It is also possible to learn more about the parameters of a class by using the question mark: type and evaluate:\n",
    "\n",
    "```python\n",
    "optimizers.SGD?\n",
    "```\n",
    "\n",
    "in a jupyter notebook cell.\n",
    "\n",
    "It is also possible to type the beginning of a function call / constructor and type \"shift-tab\" after the opening paren:\n",
    "\n",
    "```python\n",
    "optimizers.SGD(<shift-tab>\n",
    "```"
   ]
  },
  {
   "cell_type": "code",
   "execution_count": 16,
   "metadata": {},
   "outputs": [
    {
     "name": "stdout",
     "output_type": "stream",
     "text": [
      "Model: \"sequential_1\"\n",
      "_________________________________________________________________\n",
      " Layer (type)                Output Shape              Param #   \n",
      "=================================================================\n",
      " dense_3 (Dense)             (None, 64)                4160      \n",
      "                                                                 \n",
      " dense_4 (Dense)             (None, 64)                4160      \n",
      "                                                                 \n",
      " dense_5 (Dense)             (None, 10)                650       \n",
      "                                                                 \n",
      "=================================================================\n",
      "Total params: 8,970\n",
      "Trainable params: 8,970\n",
      "Non-trainable params: 0\n",
      "_________________________________________________________________\n",
      "Epoch 1/15\n",
      "45/45 [==============================] - 0s 2ms/step - loss: 2.8819 - accuracy: 0.3118\n",
      "Epoch 2/15\n",
      "45/45 [==============================] - 0s 2ms/step - loss: 1.4629 - accuracy: 0.5261\n",
      "Epoch 3/15\n",
      "45/45 [==============================] - 0s 2ms/step - loss: 1.0895 - accuracy: 0.6625\n",
      "Epoch 4/15\n",
      "45/45 [==============================] - 0s 1ms/step - loss: 0.8864 - accuracy: 0.7279\n",
      "Epoch 5/15\n",
      "45/45 [==============================] - 0s 2ms/step - loss: 0.7565 - accuracy: 0.7731\n",
      "Epoch 6/15\n",
      "45/45 [==============================] - 0s 2ms/step - loss: 0.6638 - accuracy: 0.7989\n",
      "Epoch 7/15\n",
      "45/45 [==============================] - 0s 2ms/step - loss: 0.5920 - accuracy: 0.8205\n",
      "Epoch 8/15\n",
      "45/45 [==============================] - 0s 1ms/step - loss: 0.5358 - accuracy: 0.8309\n",
      "Epoch 9/15\n",
      "45/45 [==============================] - 0s 2ms/step - loss: 0.4905 - accuracy: 0.8448\n",
      "Epoch 10/15\n",
      "45/45 [==============================] - 0s 1ms/step - loss: 0.4521 - accuracy: 0.8553\n",
      "Epoch 11/15\n",
      "45/45 [==============================] - 0s 1ms/step - loss: 0.4182 - accuracy: 0.8754\n",
      "Epoch 12/15\n",
      "45/45 [==============================] - 0s 1ms/step - loss: 0.3903 - accuracy: 0.8928\n",
      "Epoch 13/15\n",
      "45/45 [==============================] - 0s 1ms/step - loss: 0.3670 - accuracy: 0.8956\n",
      "Epoch 14/15\n",
      "45/45 [==============================] - 0s 2ms/step - loss: 0.3453 - accuracy: 0.8998\n",
      "Epoch 15/15\n",
      "45/45 [==============================] - 0s 2ms/step - loss: 0.3275 - accuracy: 0.9061\n"
     ]
    }
   ],
   "source": [
    "from tensorflow.keras.optimizers import SGD         # or from tensorflow.keras import optimizers\n",
    "\n",
    "from tensorflow.keras.models import Sequential\n",
    "from tensorflow.keras.layers import Dense\n",
    "\n",
    "model = Sequential()\n",
    "\n",
    "# Input layer\n",
    "model.add(Dense(64, activation='relu', input_shape=(64,))) # 64 neurons, ReLU activation, input shape of 64\n",
    "\n",
    "# Hidden layer\n",
    "model.add(Dense(64, activation='relu')) # 64 neurons, ReLU activation\n",
    "\n",
    "# Output layer\n",
    "model.add(Dense(10, activation='softmax')) # 10 neurons, softmax activation\n",
    "\n",
    "model.summary()\n",
    "\n",
    "# change the learning rate\n",
    "model.compile(\n",
    "    loss='categorical_crossentropy', # Loss function\n",
    "    optimizer=SGD(learning_rate=0.001), \n",
    "    metrics=['accuracy'] # Metrics to evaluate the model\n",
    ")\n",
    "\n",
    "history = model.fit(\n",
    "    X_train, # Training data\n",
    "    y_train, # Training labels\n",
    "    epochs=15, # Number of epochs\n",
    "    batch_size=32, # Number of samples per batch\n",
    ")"
   ]
  },
  {
   "cell_type": "code",
   "execution_count": 17,
   "metadata": {},
   "outputs": [
    {
     "name": "stdout",
     "output_type": "stream",
     "text": [
      "Model: \"sequential_2\"\n",
      "_________________________________________________________________\n",
      " Layer (type)                Output Shape              Param #   \n",
      "=================================================================\n",
      " dense_6 (Dense)             (None, 64)                4160      \n",
      "                                                                 \n",
      " dense_7 (Dense)             (None, 64)                4160      \n",
      "                                                                 \n",
      " dense_8 (Dense)             (None, 10)                650       \n",
      "                                                                 \n",
      "=================================================================\n",
      "Total params: 8,970\n",
      "Trainable params: 8,970\n",
      "Non-trainable params: 0\n",
      "_________________________________________________________________\n",
      "Epoch 1/15\n",
      "45/45 [==============================] - 0s 2ms/step - loss: 1458.5428 - accuracy: 0.0988\n",
      "Epoch 2/15\n",
      "45/45 [==============================] - 0s 1ms/step - loss: 2.3120 - accuracy: 0.0884\n",
      "Epoch 3/15\n",
      "45/45 [==============================] - 0s 1ms/step - loss: 2.3086 - accuracy: 0.1148\n",
      "Epoch 4/15\n",
      "45/45 [==============================] - 0s 1ms/step - loss: 2.3113 - accuracy: 0.1002\n",
      "Epoch 5/15\n",
      "45/45 [==============================] - 0s 1ms/step - loss: 2.3155 - accuracy: 0.0849\n",
      "Epoch 6/15\n",
      "45/45 [==============================] - 0s 1ms/step - loss: 2.3093 - accuracy: 0.0863\n",
      "Epoch 7/15\n",
      "45/45 [==============================] - 0s 1ms/step - loss: 2.3114 - accuracy: 0.0912\n",
      "Epoch 8/15\n",
      "45/45 [==============================] - 0s 1ms/step - loss: 2.3125 - accuracy: 0.0884\n",
      "Epoch 9/15\n",
      "45/45 [==============================] - 0s 1ms/step - loss: 2.3123 - accuracy: 0.0891\n",
      "Epoch 10/15\n",
      "45/45 [==============================] - 0s 1ms/step - loss: 2.3127 - accuracy: 0.0891\n",
      "Epoch 11/15\n",
      "45/45 [==============================] - 0s 1ms/step - loss: 2.3114 - accuracy: 0.0988\n",
      "Epoch 12/15\n",
      "45/45 [==============================] - 0s 1ms/step - loss: 2.3128 - accuracy: 0.0870\n",
      "Epoch 13/15\n",
      "45/45 [==============================] - 0s 1ms/step - loss: 2.3093 - accuracy: 0.1044\n",
      "Epoch 14/15\n",
      "45/45 [==============================] - 0s 1ms/step - loss: 2.3098 - accuracy: 0.1037\n",
      "Epoch 15/15\n",
      "45/45 [==============================] - 0s 1ms/step - loss: 2.3113 - accuracy: 0.0932\n"
     ]
    }
   ],
   "source": [
    "from tensorflow.keras.optimizers import SGD         # or from tensorflow.keras import optimizers\n",
    "\n",
    "from tensorflow.keras.models import Sequential\n",
    "from tensorflow.keras.layers import Dense\n",
    "\n",
    "model = Sequential()\n",
    "\n",
    "# Input layer\n",
    "model.add(Dense(64, activation='relu', input_shape=(64,))) # 64 neurons, ReLU activation, input shape of 64\n",
    "\n",
    "# Hidden layer\n",
    "model.add(Dense(64, activation='relu')) # 64 neurons, ReLU activation\n",
    "\n",
    "# Output layer\n",
    "model.add(Dense(10, activation='softmax')) # 10 neurons, softmax activation\n",
    "\n",
    "model.summary()\n",
    "\n",
    "# change the learning rate\n",
    "model.compile(\n",
    "    loss='categorical_crossentropy', # Loss function\n",
    "    optimizer=SGD(learning_rate=1.0), \n",
    "    metrics=['accuracy'] # Metrics to evaluate the model\n",
    ")\n",
    "\n",
    "history = model.fit(\n",
    "    X_train, # Training data\n",
    "    y_train, # Training labels\n",
    "    epochs=15, # Number of epochs\n",
    "    batch_size=32, # Number of samples per batch\n",
    ")"
   ]
  },
  {
   "cell_type": "code",
   "execution_count": 18,
   "metadata": {},
   "outputs": [
    {
     "name": "stdout",
     "output_type": "stream",
     "text": [
      "Model: \"sequential_3\"\n",
      "_________________________________________________________________\n",
      " Layer (type)                Output Shape              Param #   \n",
      "=================================================================\n",
      " dense_9 (Dense)             (None, 64)                4160      \n",
      "                                                                 \n",
      " dense_10 (Dense)            (None, 64)                4160      \n",
      "                                                                 \n",
      " dense_11 (Dense)            (None, 10)                650       \n",
      "                                                                 \n",
      "=================================================================\n",
      "Total params: 8,970\n",
      "Trainable params: 8,970\n",
      "Non-trainable params: 0\n",
      "_________________________________________________________________\n",
      "Epoch 1/15\n",
      "45/45 [==============================] - 0s 2ms/step - loss: 34692864621412352.0000 - accuracy: 0.0967\n",
      "Epoch 2/15\n",
      "45/45 [==============================] - 0s 1ms/step - loss: 2.5227 - accuracy: 0.0988\n",
      "Epoch 3/15\n",
      "45/45 [==============================] - 0s 1ms/step - loss: 2.4888 - accuracy: 0.1016\n",
      "Epoch 4/15\n",
      "45/45 [==============================] - 0s 1ms/step - loss: 2.4538 - accuracy: 0.0926\n",
      "Epoch 5/15\n",
      "45/45 [==============================] - 0s 1ms/step - loss: 2.4827 - accuracy: 0.1023\n",
      "Epoch 6/15\n",
      "45/45 [==============================] - 0s 1ms/step - loss: 2.5019 - accuracy: 0.0891\n",
      "Epoch 7/15\n",
      "45/45 [==============================] - 0s 2ms/step - loss: 2.4770 - accuracy: 0.0828\n",
      "Epoch 8/15\n",
      "45/45 [==============================] - 0s 1ms/step - loss: 2.4945 - accuracy: 0.0967\n",
      "Epoch 9/15\n",
      "45/45 [==============================] - 0s 1ms/step - loss: 2.4663 - accuracy: 0.1023\n",
      "Epoch 10/15\n",
      "45/45 [==============================] - 0s 1ms/step - loss: 2.4456 - accuracy: 0.1072\n",
      "Epoch 11/15\n",
      "45/45 [==============================] - 0s 1ms/step - loss: 2.4940 - accuracy: 0.0849\n",
      "Epoch 12/15\n",
      "45/45 [==============================] - 0s 1ms/step - loss: 2.4720 - accuracy: 0.0939\n",
      "Epoch 13/15\n",
      "45/45 [==============================] - 0s 1ms/step - loss: 2.5014 - accuracy: 0.0946\n",
      "Epoch 14/15\n",
      "45/45 [==============================] - 0s 1ms/step - loss: 2.4678 - accuracy: 0.0912\n",
      "Epoch 15/15\n",
      "45/45 [==============================] - 0s 1ms/step - loss: 2.4402 - accuracy: 0.0995\n"
     ]
    }
   ],
   "source": [
    "from tensorflow.keras.optimizers import SGD         # or from tensorflow.keras import optimizers\n",
    "\n",
    "from tensorflow.keras.models import Sequential\n",
    "from tensorflow.keras.layers import Dense\n",
    "\n",
    "model = Sequential()\n",
    "\n",
    "# Input layer\n",
    "model.add(Dense(64, activation='relu', input_shape=(64,))) # 64 neurons, ReLU activation, input shape of 64\n",
    "\n",
    "# Hidden layer\n",
    "model.add(Dense(64, activation='relu')) # 64 neurons, ReLU activation\n",
    "\n",
    "# Output layer\n",
    "model.add(Dense(10, activation='softmax')) # 10 neurons, softmax activation\n",
    "\n",
    "model.summary()\n",
    "\n",
    "# change the learning rate\n",
    "model.compile(\n",
    "    loss='categorical_crossentropy', # Loss function\n",
    "    optimizer=SGD(learning_rate=10.0), \n",
    "    metrics=['accuracy'] # Metrics to evaluate the model\n",
    ")\n",
    "\n",
    "history = model.fit(\n",
    "    X_train, # Training data\n",
    "    y_train, # Training labels\n",
    "    epochs=15, # Number of epochs\n",
    "    batch_size=32, # Number of samples per batch\n",
    ")"
   ]
  },
  {
   "cell_type": "code",
   "execution_count": 19,
   "metadata": {},
   "outputs": [
    {
     "name": "stdout",
     "output_type": "stream",
     "text": [
      "Model: \"sequential_4\"\n",
      "_________________________________________________________________\n",
      " Layer (type)                Output Shape              Param #   \n",
      "=================================================================\n",
      " dense_12 (Dense)            (None, 64)                4160      \n",
      "                                                                 \n",
      " dense_13 (Dense)            (None, 64)                4160      \n",
      "                                                                 \n",
      " dense_14 (Dense)            (None, 10)                650       \n",
      "                                                                 \n",
      "=================================================================\n",
      "Total params: 8,970\n",
      "Trainable params: 8,970\n",
      "Non-trainable params: 0\n",
      "_________________________________________________________________\n",
      "Epoch 1/15\n",
      "45/45 [==============================] - 0s 1ms/step - loss: nan - accuracy: 0.0988\n",
      "Epoch 2/15\n",
      "45/45 [==============================] - 0s 1ms/step - loss: nan - accuracy: 0.1009\n",
      "Epoch 3/15\n",
      "45/45 [==============================] - 0s 1ms/step - loss: nan - accuracy: 0.1009\n",
      "Epoch 4/15\n",
      "45/45 [==============================] - 0s 1ms/step - loss: nan - accuracy: 0.1009\n",
      "Epoch 5/15\n",
      "45/45 [==============================] - 0s 1ms/step - loss: nan - accuracy: 0.1009\n",
      "Epoch 6/15\n",
      "45/45 [==============================] - 0s 1ms/step - loss: nan - accuracy: 0.1009\n",
      "Epoch 7/15\n",
      "45/45 [==============================] - 0s 1ms/step - loss: nan - accuracy: 0.1009\n",
      "Epoch 8/15\n",
      "45/45 [==============================] - 0s 1ms/step - loss: nan - accuracy: 0.1009\n",
      "Epoch 9/15\n",
      "45/45 [==============================] - 0s 1ms/step - loss: nan - accuracy: 0.1009\n",
      "Epoch 10/15\n",
      "45/45 [==============================] - 0s 1ms/step - loss: nan - accuracy: 0.1009\n",
      "Epoch 11/15\n",
      "45/45 [==============================] - 0s 2ms/step - loss: nan - accuracy: 0.1009\n",
      "Epoch 12/15\n",
      "45/45 [==============================] - 0s 1ms/step - loss: nan - accuracy: 0.1009\n",
      "Epoch 13/15\n",
      "45/45 [==============================] - 0s 1ms/step - loss: nan - accuracy: 0.1009\n",
      "Epoch 14/15\n",
      "45/45 [==============================] - 0s 1ms/step - loss: nan - accuracy: 0.1009\n",
      "Epoch 15/15\n",
      "45/45 [==============================] - 0s 1ms/step - loss: nan - accuracy: 0.1009\n"
     ]
    }
   ],
   "source": [
    "from tensorflow.keras.optimizers import SGD         # or from tensorflow.keras import optimizers\n",
    "\n",
    "from tensorflow.keras.models import Sequential\n",
    "from tensorflow.keras.layers import Dense\n",
    "\n",
    "model = Sequential()\n",
    "\n",
    "# Input layer\n",
    "model.add(Dense(64, activation='relu', input_shape=(64,))) # 64 neurons, ReLU activation, input shape of 64\n",
    "\n",
    "# Hidden layer\n",
    "model.add(Dense(64, activation='relu')) # 64 neurons, ReLU activation\n",
    "\n",
    "# Output layer\n",
    "model.add(Dense(10, activation='softmax')) # 10 neurons, softmax activation\n",
    "\n",
    "model.summary()\n",
    "\n",
    "# change the learning rate\n",
    "model.compile(\n",
    "    loss='categorical_crossentropy', # Loss function\n",
    "    optimizer=SGD(learning_rate=100.0), \n",
    "    metrics=['accuracy'] # Metrics to evaluate the model\n",
    ")\n",
    "\n",
    "history = model.fit(\n",
    "    X_train, # Training data\n",
    "    y_train, # Training labels\n",
    "    epochs=15, # Number of epochs\n",
    "    batch_size=32, # Number of samples per batch\n",
    ")"
   ]
  },
  {
   "cell_type": "markdown",
   "metadata": {},
   "source": [
    "Next, let's try a more advanced optimizer. Adam is likely the most popular optimizer for deep learning. It is an adaptive learning rate optimizer, which means that it automatically adjusts the learning rate based on how the training is going. This can be very useful, as it means that we don't need to manually tune the learning rate. Let's see how it performs on our model.\n",
    "\n",
    "\n",
    "1. Replace the SGD optimizer by the Adam optimizer from keras and run it\n",
    "  with the default parameters.\n",
    "\n",
    "2. Add another hidden layer with ReLU activation and 64 neurons. Does it improve the model performance?\n"
   ]
  },
  {
   "cell_type": "code",
   "execution_count": 20,
   "metadata": {},
   "outputs": [
    {
     "name": "stdout",
     "output_type": "stream",
     "text": [
      "Model: \"sequential_5\"\n",
      "_________________________________________________________________\n",
      " Layer (type)                Output Shape              Param #   \n",
      "=================================================================\n",
      " dense_15 (Dense)            (None, 64)                4160      \n",
      "                                                                 \n",
      " dense_16 (Dense)            (None, 64)                4160      \n",
      "                                                                 \n",
      " dense_17 (Dense)            (None, 10)                650       \n",
      "                                                                 \n",
      "=================================================================\n",
      "Total params: 8,970\n",
      "Trainable params: 8,970\n",
      "Non-trainable params: 0\n",
      "_________________________________________________________________\n",
      "Epoch 1/15\n",
      "45/45 [==============================] - 0s 2ms/step - loss: 2.0307 - accuracy: 0.4516\n",
      "Epoch 2/15\n",
      "45/45 [==============================] - 0s 1ms/step - loss: 0.4961 - accuracy: 0.8608\n",
      "Epoch 3/15\n",
      "45/45 [==============================] - 0s 1ms/step - loss: 0.2659 - accuracy: 0.9297\n",
      "Epoch 4/15\n",
      "45/45 [==============================] - 0s 1ms/step - loss: 0.1612 - accuracy: 0.9603\n",
      "Epoch 5/15\n",
      "45/45 [==============================] - 0s 1ms/step - loss: 0.1139 - accuracy: 0.9715\n",
      "Epoch 6/15\n",
      "45/45 [==============================] - 0s 1ms/step - loss: 0.0870 - accuracy: 0.9784\n",
      "Epoch 7/15\n",
      "45/45 [==============================] - 0s 1ms/step - loss: 0.0613 - accuracy: 0.9854\n",
      "Epoch 8/15\n",
      "45/45 [==============================] - 0s 1ms/step - loss: 0.0467 - accuracy: 0.9882\n",
      "Epoch 9/15\n",
      "45/45 [==============================] - 0s 1ms/step - loss: 0.0361 - accuracy: 0.9930\n",
      "Epoch 10/15\n",
      "45/45 [==============================] - 0s 1ms/step - loss: 0.0324 - accuracy: 0.9937\n",
      "Epoch 11/15\n",
      "45/45 [==============================] - 0s 1ms/step - loss: 0.0240 - accuracy: 0.9965\n",
      "Epoch 12/15\n",
      "45/45 [==============================] - 0s 1ms/step - loss: 0.0199 - accuracy: 0.9965\n",
      "Epoch 13/15\n",
      "45/45 [==============================] - 0s 1ms/step - loss: 0.0151 - accuracy: 0.9986\n",
      "Epoch 14/15\n",
      "45/45 [==============================] - 0s 1ms/step - loss: 0.0124 - accuracy: 1.0000\n",
      "Epoch 15/15\n",
      "45/45 [==============================] - 0s 1ms/step - loss: 0.0107 - accuracy: 0.9993\n"
     ]
    }
   ],
   "source": [
    "from tensorflow.keras.optimizers import SGD         # or from tensorflow.keras import optimizers\n",
    "\n",
    "from tensorflow.keras.models import Sequential\n",
    "from tensorflow.keras.layers import Dense\n",
    "\n",
    "model = Sequential()\n",
    "\n",
    "# Input layer\n",
    "model.add(Dense(64, activation='relu', input_shape=(64,))) # 64 neurons, ReLU activation, input shape of 64\n",
    "\n",
    "# Hidden layer\n",
    "model.add(Dense(64, activation='relu')) # 64 neurons, ReLU activation\n",
    "\n",
    "# Output layer\n",
    "model.add(Dense(10, activation='softmax')) # 10 neurons, softmax activation\n",
    "\n",
    "model.summary()\n",
    "\n",
    "model.compile(\n",
    "    loss='categorical_crossentropy', # Loss function\n",
    "    optimizer='adam', # Optimizer\n",
    "    metrics=['accuracy'] # Metrics to evaluate the model\n",
    ")\n",
    "\n",
    "history = model.fit(\n",
    "    X_train, # Training data\n",
    "    y_train, # Training labels\n",
    "    epochs=15, # Number of epochs\n",
    "    batch_size=32, # Number of samples per batch\n",
    ")"
   ]
  },
  {
   "cell_type": "markdown",
   "metadata": {},
   "source": [
    "### Exercises: Forward Pass and Generalization\n",
    "\n",
    "Let's look in more detail at how the model makes predictions on the test set. We will walk through each step of making predictions, examining exactly what's going on.\n",
    "\n",
    "To start, we will apply our model to the test set, and look at what we get as output:"
   ]
  },
  {
   "cell_type": "code",
   "execution_count": 21,
   "metadata": {},
   "outputs": [
    {
     "data": {
      "text/plain": [
       "<tf.Tensor: shape=(5, 10), dtype=float32, numpy=\n",
       "array([[7.42497014e-06, 1.56142742e-05, 1.68083830e-07, 3.88136016e-07,\n",
       "        3.43133206e-06, 1.26406337e-06, 9.96824980e-01, 3.45298122e-06,\n",
       "        3.14216968e-03, 1.29107389e-06],\n",
       "       [1.83752330e-04, 7.92566013e-08, 1.38814215e-07, 1.53414821e-05,\n",
       "        3.28299166e-06, 3.01787239e-02, 8.97449439e-08, 9.36293532e-07,\n",
       "        1.88963513e-05, 9.69598711e-01],\n",
       "       [1.18678167e-09, 3.78726668e-07, 7.71325801e-07, 9.99931633e-01,\n",
       "        4.05621048e-09, 9.90144690e-06, 2.19948930e-08, 1.97453187e-06,\n",
       "        1.41847095e-05, 4.10479515e-05],\n",
       "       [1.29987704e-04, 5.75724152e-06, 3.19060916e-03, 4.02771315e-04,\n",
       "        7.47847798e-06, 1.15127812e-04, 5.64730200e-08, 9.81283069e-01,\n",
       "        2.12707346e-06, 1.48630328e-02],\n",
       "       [1.11487152e-05, 7.30346073e-05, 9.86142695e-01, 3.82653368e-03,\n",
       "        6.36150389e-07, 1.69065461e-04, 1.86611782e-04, 2.32668855e-04,\n",
       "        9.00813937e-03, 3.49593582e-04]], dtype=float32)>"
      ]
     },
     "execution_count": 21,
     "metadata": {},
     "output_type": "execute_result"
    }
   ],
   "source": [
    "predictions_tf = model(X_test)\n",
    "predictions_tf[:5]"
   ]
  },
  {
   "cell_type": "code",
   "execution_count": 22,
   "metadata": {},
   "outputs": [
    {
     "data": {
      "text/plain": [
       "(tensorflow.python.framework.ops.EagerTensor, TensorShape([360, 10]))"
      ]
     },
     "execution_count": 22,
     "metadata": {},
     "output_type": "execute_result"
    }
   ],
   "source": [
    "type(predictions_tf), predictions_tf.shape"
   ]
  },
  {
   "cell_type": "markdown",
   "metadata": {},
   "source": [
    "The raw output of the model is a tensor of shape `(360, 10)`. This means that we have 360 samples, and for each sample we have 10 values. Each of these values represents the probability that the sample belongs to a given class. This means that we have 10 probabilities for each sample, and the sum of these probabilities is 1. We can confirm this by summing the probabilities for each sample:"
   ]
  },
  {
   "cell_type": "code",
   "execution_count": 23,
   "metadata": {},
   "outputs": [
    {
     "data": {
      "text/plain": [
       "<tf.Tensor: shape=(5,), dtype=float32, numpy=\n",
       "array([1.0000002 , 0.99999994, 0.9999999 , 1.        , 1.0000001 ],\n",
       "      dtype=float32)>"
      ]
     },
     "execution_count": 23,
     "metadata": {},
     "output_type": "execute_result"
    }
   ],
   "source": [
    "import tensorflow as tf\n",
    "\n",
    "tf.reduce_sum(predictions_tf, axis=1)[:5]"
   ]
  },
  {
   "cell_type": "markdown",
   "metadata": {
    "collapsed": false
   },
   "source": [
    "...okay, there might be a small rounding error here and there. This is to do with how floating point numbers are represented in computers, and it's not something we need to worry about for now."
   ]
  },
  {
   "cell_type": "markdown",
   "metadata": {},
   "source": [
    "We can also extract the label with the highest probability using the tensorflow API:"
   ]
  },
  {
   "cell_type": "code",
   "execution_count": 24,
   "metadata": {},
   "outputs": [
    {
     "data": {
      "text/plain": [
       "<tf.Tensor: shape=(5,), dtype=int64, numpy=array([6, 9, 3, 7, 2], dtype=int64)>"
      ]
     },
     "execution_count": 24,
     "metadata": {},
     "output_type": "execute_result"
    }
   ],
   "source": [
    "predicted_labels_tf = tf.argmax(predictions_tf, axis=1)\n",
    "predicted_labels_tf[:5]"
   ]
  },
  {
   "cell_type": "markdown",
   "metadata": {
    "collapsed": false
   },
   "source": [
    "One helpful aspect of this approach is that we don't just get the prediction, but also a sense of how confident the model is in its prediction. To see this in practice, let's take a look at some of the predictions the model is highly confident about (i.e. a lot of the probability mass is on one class):"
   ]
  },
  {
   "cell_type": "code",
   "execution_count": 25,
   "metadata": {
    "collapsed": false
   },
   "outputs": [
    {
     "data": {
      "image/png": "[encoded data removed]",
      "text/plain": [
       "<Figure size 600x600 with 9 Axes>"
      ]
     },
     "metadata": {},
     "output_type": "display_data"
    }
   ],
   "source": [
    "# Get the values corresponding to the predicted labels for each sample\n",
    "predicted_values_tf = tf.reduce_max(predictions_tf, axis=1)\n",
    "\n",
    "# Get the indices of the samples with the highest predicted values\n",
    "most_confident_indices_tf = tf.argsort(predicted_values_tf, direction='DESCENDING').numpy()[:9]\n",
    "\n",
    "# Get the 9 most confident samples\n",
    "most_confident_samples_tf = X_test[most_confident_indices_tf]\n",
    "\n",
    "# Get the true labels for the 9 most confident samples\n",
    "most_confident_labels_tf = np.argmax(y_test[most_confident_indices_tf], axis=1)\n",
    "\n",
    "# Plot the 9 most confident samples\n",
    "fig, axes = plt.subplots(3, 3, figsize=(6, 6))\n",
    "\n",
    "for i, ax in enumerate(axes.flat):\n",
    "    ax.imshow(most_confident_samples_tf[i].reshape(8, 8), cmap=plt.cm.gray_r, interpolation='nearest')\n",
    "    ax.set_title(f\"{most_confident_labels_tf[i]}\")\n",
    "\n",
    "    # Removing axis labels\n",
    "    ax.set_xticks([])\n",
    "    ax.set_yticks([])\n",
    "    \n",
    "plt.show()"
   ]
  },
  {
   "cell_type": "markdown",
   "metadata": {},
   "source": [
    "## Impact of Initialization\n",
    "\n",
    "Let's study the impact of a bad initialization when training\n",
    "a deep feed forward network.\n",
    "\n",
    "By default, Keras dense layers use the \"Glorot Uniform\" initialization\n",
    "strategy to initialize the weight matrices:\n",
    "\n",
    "- each weight coefficient is randomly sampled from [-scale, scale]\n",
    "- scale is proportional to $\\frac{1}{\\sqrt{n_{in} + n_{out}}}$\n",
    "\n",
    "This strategy is known to work well to initialize deep neural networks\n",
    "with \"tanh\" or \"relu\" activation functions and then trained with\n",
    "standard SGD.\n",
    "\n",
    "To assess the impact of initialization let us plug an alternative init\n",
    "scheme into a 2 hidden layers networks with \"tanh\" activations.\n",
    "For the sake of the example let's use normal distributed weights\n",
    "with a manually adjustable scale (standard deviation) and see the\n",
    "impact the scale value:"
   ]
  },
  {
   "cell_type": "code",
   "execution_count": 26,
   "metadata": {},
   "outputs": [],
   "source": [
    "from tensorflow.keras import initializers\n",
    "from tensorflow.keras import optimizers\n",
    "\n",
    "input_dim = 64\n",
    "hidden_dim = 64\n",
    "output_dim = 10\n",
    "\n",
    "normal_init = initializers.TruncatedNormal(stddev=0.01, seed=42)        # get weight functions from a normal distribution\n",
    "\n",
    "model = Sequential()\n",
    "model.add(Dense(hidden_dim, input_dim=input_dim, activation=\"tanh\",\n",
    "                kernel_initializer=normal_init))\n",
    "model.add(Dense(hidden_dim, activation=\"tanh\",\n",
    "                kernel_initializer=normal_init))\n",
    "model.add(Dense(output_dim, activation=\"softmax\",\n",
    "                kernel_initializer=normal_init))\n",
    "\n",
    "model.compile(optimizer=optimizers.SGD(learning_rate=0.1),\n",
    "              loss='categorical_crossentropy', metrics=['accuracy'])"
   ]
  },
  {
   "cell_type": "code",
   "execution_count": 27,
   "metadata": {},
   "outputs": [
    {
     "data": {
      "text/plain": [
       "[<keras.layers.core.dense.Dense at 0x225d023eb20>,\n",
       " <keras.layers.core.dense.Dense at 0x225df140fa0>,\n",
       " <keras.layers.core.dense.Dense at 0x225dc9ac910>]"
      ]
     },
     "execution_count": 27,
     "metadata": {},
     "output_type": "execute_result"
    }
   ],
   "source": [
    "model.layers"
   ]
  },
  {
   "cell_type": "markdown",
   "metadata": {},
   "source": [
    "Let's have a look at the parameters of the first layer after initialization but before any training has happened:"
   ]
  },
  {
   "cell_type": "code",
   "execution_count": 28,
   "metadata": {},
   "outputs": [
    {
     "data": {
      "text/plain": [
       "[<tf.Variable 'dense_18/kernel:0' shape=(64, 64) dtype=float32, numpy=\n",
       " array([[ 0.00015817, -0.01590087,  0.00103594, ...,  0.00962818,\n",
       "          0.00624957,  0.00994726],\n",
       "        [ 0.0081879 ,  0.00756818, -0.00668142, ...,  0.01084459,\n",
       "         -0.00317478, -0.00549116],\n",
       "        [-0.00086618, -0.00287623,  0.00391693, ...,  0.00064558,\n",
       "         -0.00420471,  0.00174566],\n",
       "        ...,\n",
       "        [-0.0029006 , -0.0091218 ,  0.00804327, ..., -0.01407086,\n",
       "          0.00952832, -0.01348555],\n",
       "        [ 0.00375078,  0.00967842,  0.00098119, ..., -0.00413454,\n",
       "          0.01695471,  0.00025196],\n",
       "        [ 0.00459809,  0.01223094, -0.00213172, ...,  0.01246831,\n",
       "         -0.00714749, -0.00868595]], dtype=float32)>,\n",
       " <tf.Variable 'dense_18/bias:0' shape=(64,) dtype=float32, numpy=\n",
       " array([0., 0., 0., 0., 0., 0., 0., 0., 0., 0., 0., 0., 0., 0., 0., 0., 0.,\n",
       "        0., 0., 0., 0., 0., 0., 0., 0., 0., 0., 0., 0., 0., 0., 0., 0., 0.,\n",
       "        0., 0., 0., 0., 0., 0., 0., 0., 0., 0., 0., 0., 0., 0., 0., 0., 0.,\n",
       "        0., 0., 0., 0., 0., 0., 0., 0., 0., 0., 0., 0., 0.], dtype=float32)>]"
      ]
     },
     "execution_count": 28,
     "metadata": {},
     "output_type": "execute_result"
    }
   ],
   "source": [
    "model.layers[0].weights"
   ]
  },
  {
   "cell_type": "code",
   "execution_count": 29,
   "metadata": {},
   "outputs": [
    {
     "data": {
      "text/plain": [
       "array([[ 0.00015817, -0.01590087,  0.00103594, ...,  0.00962818,\n",
       "         0.00624957,  0.00994726],\n",
       "       [ 0.0081879 ,  0.00756818, -0.00668142, ...,  0.01084459,\n",
       "        -0.00317478, -0.00549116],\n",
       "       [-0.00086618, -0.00287623,  0.00391693, ...,  0.00064558,\n",
       "        -0.00420471,  0.00174566],\n",
       "       ...,\n",
       "       [-0.0029006 , -0.0091218 ,  0.00804327, ..., -0.01407086,\n",
       "         0.00952832, -0.01348555],\n",
       "       [ 0.00375078,  0.00967842,  0.00098119, ..., -0.00413454,\n",
       "         0.01695471,  0.00025196],\n",
       "       [ 0.00459809,  0.01223094, -0.00213172, ...,  0.01246831,\n",
       "        -0.00714749, -0.00868595]], dtype=float32)"
      ]
     },
     "execution_count": 29,
     "metadata": {},
     "output_type": "execute_result"
    }
   ],
   "source": [
    "w = model.layers[0].weights[0].numpy()\n",
    "w"
   ]
  },
  {
   "cell_type": "code",
   "execution_count": 30,
   "metadata": {},
   "outputs": [
    {
     "data": {
      "text/plain": [
       "0.008835949"
      ]
     },
     "execution_count": 30,
     "metadata": {},
     "output_type": "execute_result"
    }
   ],
   "source": [
    "w.std()"
   ]
  },
  {
   "cell_type": "code",
   "execution_count": 31,
   "metadata": {},
   "outputs": [
    {
     "data": {
      "text/plain": [
       "array([0., 0., 0., 0., 0., 0., 0., 0., 0., 0., 0., 0., 0., 0., 0., 0., 0.,\n",
       "       0., 0., 0., 0., 0., 0., 0., 0., 0., 0., 0., 0., 0., 0., 0., 0., 0.,\n",
       "       0., 0., 0., 0., 0., 0., 0., 0., 0., 0., 0., 0., 0., 0., 0., 0., 0.,\n",
       "       0., 0., 0., 0., 0., 0., 0., 0., 0., 0., 0., 0., 0.], dtype=float32)"
      ]
     },
     "execution_count": 31,
     "metadata": {},
     "output_type": "execute_result"
    }
   ],
   "source": [
    "b = model.layers[0].weights[1].numpy()\n",
    "b"
   ]
  },
  {
   "cell_type": "code",
   "execution_count": 32,
   "metadata": {},
   "outputs": [
    {
     "name": "stdout",
     "output_type": "stream",
     "text": [
      "Epoch 1/15\n",
      "45/45 [==============================] - 0s 2ms/step - loss: 2.2864 - accuracy: 0.2171\n",
      "Epoch 2/15\n",
      "45/45 [==============================] - 0s 1ms/step - loss: 1.7350 - accuracy: 0.4662\n",
      "Epoch 3/15\n",
      "45/45 [==============================] - 0s 1ms/step - loss: 1.0467 - accuracy: 0.6820\n",
      "Epoch 4/15\n",
      "45/45 [==============================] - 0s 1ms/step - loss: 0.5548 - accuracy: 0.8643\n",
      "Epoch 5/15\n",
      "45/45 [==============================] - 0s 1ms/step - loss: 0.3422 - accuracy: 0.9151\n",
      "Epoch 6/15\n",
      "45/45 [==============================] - 0s 1ms/step - loss: 0.2585 - accuracy: 0.9297\n",
      "Epoch 7/15\n",
      "45/45 [==============================] - 0s 1ms/step - loss: 0.1652 - accuracy: 0.9631\n",
      "Epoch 8/15\n",
      "45/45 [==============================] - 0s 1ms/step - loss: 0.1177 - accuracy: 0.9763\n",
      "Epoch 9/15\n",
      "45/45 [==============================] - 0s 1ms/step - loss: 0.1094 - accuracy: 0.9729\n",
      "Epoch 10/15\n",
      "45/45 [==============================] - 0s 1ms/step - loss: 0.0961 - accuracy: 0.9770\n",
      "Epoch 11/15\n",
      "45/45 [==============================] - 0s 1ms/step - loss: 0.0921 - accuracy: 0.9805\n",
      "Epoch 12/15\n",
      "45/45 [==============================] - 0s 1ms/step - loss: 0.0592 - accuracy: 0.9868\n",
      "Epoch 13/15\n",
      "45/45 [==============================] - 0s 1ms/step - loss: 0.0549 - accuracy: 0.9896\n",
      "Epoch 14/15\n",
      "45/45 [==============================] - 0s 1ms/step - loss: 0.0911 - accuracy: 0.9722\n",
      "Epoch 15/15\n",
      "45/45 [==============================] - 0s 2ms/step - loss: 0.0662 - accuracy: 0.9854\n"
     ]
    },
    {
     "data": {
      "image/png": "[encoded data removed]",
      "text/plain": [
       "<Figure size 1200x400 with 1 Axes>"
      ]
     },
     "metadata": {},
     "output_type": "display_data"
    }
   ],
   "source": [
    "history = model.fit(X_train, y_train, epochs=15, batch_size=32)\n",
    "\n",
    "plt.figure(figsize=(12, 4))\n",
    "plt.plot(history.history['loss'], label=\"Truncated Normal init\")\n",
    "plt.legend();"
   ]
  },
  {
   "cell_type": "markdown",
   "metadata": {},
   "source": [
    "Once the model has been fit, the weights have been updated and notably the biases are no longer 0:"
   ]
  },
  {
   "cell_type": "code",
   "execution_count": 33,
   "metadata": {},
   "outputs": [
    {
     "data": {
      "text/plain": [
       "[<tf.Variable 'dense_18/kernel:0' shape=(64, 64) dtype=float32, numpy=\n",
       " array([[ 1.5817076e-04, -1.5900869e-02,  1.0359446e-03, ...,\n",
       "          9.6281823e-03,  6.2495731e-03,  9.9472618e-03],\n",
       "        [ 1.4393126e-02, -1.5185628e-02, -1.3192583e-02, ...,\n",
       "         -1.0097177e-03, -1.8233215e-02, -3.1738598e-02],\n",
       "        [ 5.7396531e-02, -8.6260296e-02, -5.4897323e-02, ...,\n",
       "         -4.8833221e-02, -1.3688946e-01,  2.7136121e-02],\n",
       "        ...,\n",
       "        [ 2.7821532e-02,  1.9273665e-02,  1.9251557e-01, ...,\n",
       "         -9.8009974e-02,  5.2405972e-02, -1.8673453e-01],\n",
       "        [ 2.8252393e-02,  4.6064719e-04,  1.5549411e-01, ...,\n",
       "         -9.0182230e-02,  2.9014048e-04, -1.3699028e-01],\n",
       "        [ 2.2314917e-02, -8.2661277e-03,  5.5550173e-02, ...,\n",
       "          4.7040738e-02,  2.9675324e-02, -7.7337489e-02]], dtype=float32)>,\n",
       " <tf.Variable 'dense_18/bias:0' shape=(64,) dtype=float32, numpy=\n",
       " array([-2.0056209e-04,  1.6037020e-03,  2.5262160e-03, -3.3047064e-03,\n",
       "        -4.2523970e-03, -1.0256411e-03, -1.0497805e-03, -1.1847607e-03,\n",
       "        -7.7952829e-04, -2.5005597e-03, -9.6967246e-04, -1.1804935e-04,\n",
       "         3.4368266e-03,  1.8651210e-04,  4.3550222e-03, -1.5749682e-03,\n",
       "         5.9192670e-03,  1.2503648e-03, -2.3369985e-03, -4.7867829e-03,\n",
       "        -1.1787666e-03,  1.1391250e-03,  1.3737855e-03,  1.7494480e-05,\n",
       "         3.9296467e-03,  2.0438218e-03,  3.8428830e-03,  3.6163952e-03,\n",
       "        -2.4463271e-04,  5.1738246e-04,  5.8159200e-03,  6.1418221e-04,\n",
       "         1.3867107e-03,  1.7967568e-03,  5.0286036e-03, -1.4159331e-03,\n",
       "        -1.2795894e-03, -2.9340948e-03,  1.3238672e-03, -2.1020640e-03,\n",
       "        -1.9819851e-03, -3.9330171e-04, -1.3133290e-03,  8.7956345e-04,\n",
       "        -7.4593688e-04, -5.5831531e-04, -2.2902007e-03, -1.9249023e-03,\n",
       "         6.9309893e-04,  2.4379673e-03,  3.8058024e-03, -5.5383146e-03,\n",
       "        -5.7558734e-03, -1.2813509e-03, -5.4902220e-03, -4.0669600e-03,\n",
       "         3.2996961e-03,  2.7040415e-03,  2.3236710e-03, -1.1445999e-03,\n",
       "         4.5168505e-05,  6.5515918e-04, -3.1617302e-03,  3.8139749e-04],\n",
       "       dtype=float32)>]"
      ]
     },
     "execution_count": 33,
     "metadata": {},
     "output_type": "execute_result"
    }
   ],
   "source": [
    "model.layers[0].weights"
   ]
  },
  {
   "cell_type": "markdown",
   "metadata": {},
   "source": [
    "#### Questions:\n",
    "\n",
    "- Try the following initialization schemes and see whether\n",
    "  the SGD algorithm can successfully train the network or\n",
    "  not:\n",
    "  \n",
    "  - a very small e.g. `stddev=1e-3`\n",
    "  - a larger scale e.g. `stddev=1` or `10`\n",
    "  - initialize all weights to 0 (constant initialization)\n",
    "  \n",
    "- What do you observe? Can you find an explanation for those\n",
    "  outcomes?\n",
    "\n",
    "- Are more advanced solvers such as SGD with momentum or Adam able\n",
    "  to deal better with such bad initializations?"
   ]
  },
  {
   "cell_type": "code",
   "execution_count": 34,
   "metadata": {},
   "outputs": [
    {
     "name": "stdout",
     "output_type": "stream",
     "text": [
      "\n",
      "Training model with stddev = 0.001\n",
      "Epoch 1/15\n",
      "45/45 [==============================] - 0s 2ms/step - loss: 2.3035 - accuracy: 0.1009\n",
      "Epoch 2/15\n",
      "45/45 [==============================] - 0s 2ms/step - loss: 2.3033 - accuracy: 0.0974\n",
      "Epoch 3/15\n",
      "45/45 [==============================] - 0s 1ms/step - loss: 2.3032 - accuracy: 0.1002\n",
      "Epoch 4/15\n",
      "45/45 [==============================] - 0s 1ms/step - loss: 2.3031 - accuracy: 0.1072\n",
      "Epoch 5/15\n",
      "45/45 [==============================] - 0s 1ms/step - loss: 2.3031 - accuracy: 0.1030\n",
      "Epoch 6/15\n",
      "45/45 [==============================] - 0s 1ms/step - loss: 2.3029 - accuracy: 0.1072\n",
      "Epoch 7/15\n",
      "45/45 [==============================] - 0s 1ms/step - loss: 2.3029 - accuracy: 0.1072\n",
      "Epoch 8/15\n",
      "45/45 [==============================] - 0s 1ms/step - loss: 2.3029 - accuracy: 0.1023\n",
      "Epoch 9/15\n",
      "45/45 [==============================] - 0s 1ms/step - loss: 2.3016 - accuracy: 0.1037\n",
      "Epoch 10/15\n",
      "45/45 [==============================] - 0s 1ms/step - loss: 2.1170 - accuracy: 0.1865\n",
      "Epoch 11/15\n",
      "45/45 [==============================] - 0s 1ms/step - loss: 1.7921 - accuracy: 0.2122\n",
      "Epoch 12/15\n",
      "45/45 [==============================] - 0s 1ms/step - loss: 1.6699 - accuracy: 0.2777\n",
      "Epoch 13/15\n",
      "45/45 [==============================] - 0s 1ms/step - loss: 1.4510 - accuracy: 0.3382\n",
      "Epoch 14/15\n",
      "45/45 [==============================] - 0s 1ms/step - loss: 1.2505 - accuracy: 0.5205\n",
      "Epoch 15/15\n",
      "45/45 [==============================] - 0s 1ms/step - loss: 0.9397 - accuracy: 0.6611\n",
      "\n",
      "Training model with stddev = 1\n",
      "Epoch 1/15\n",
      "45/45 [==============================] - 1s 1ms/step - loss: 3.9823 - accuracy: 0.2881\n",
      "Epoch 2/15\n",
      "45/45 [==============================] - 0s 1ms/step - loss: 2.1068 - accuracy: 0.4454\n",
      "Epoch 3/15\n",
      "45/45 [==============================] - 0s 1ms/step - loss: 1.6099 - accuracy: 0.5351\n",
      "Epoch 4/15\n",
      "45/45 [==============================] - 0s 1ms/step - loss: 1.2540 - accuracy: 0.6451\n",
      "Epoch 5/15\n",
      "45/45 [==============================] - 0s 1ms/step - loss: 1.0331 - accuracy: 0.6862\n",
      "Epoch 6/15\n",
      "45/45 [==============================] - 0s 1ms/step - loss: 0.9493 - accuracy: 0.7119\n",
      "Epoch 7/15\n",
      "45/45 [==============================] - 0s 1ms/step - loss: 0.7796 - accuracy: 0.7495\n",
      "Epoch 8/15\n",
      "45/45 [==============================] - 0s 1ms/step - loss: 0.7603 - accuracy: 0.7578\n",
      "Epoch 9/15\n",
      "45/45 [==============================] - 0s 1ms/step - loss: 0.7284 - accuracy: 0.7690\n",
      "Epoch 10/15\n",
      "45/45 [==============================] - 0s 1ms/step - loss: 0.6724 - accuracy: 0.8086\n",
      "Epoch 11/15\n",
      "45/45 [==============================] - 0s 1ms/step - loss: 0.6502 - accuracy: 0.7940\n",
      "Epoch 12/15\n",
      "45/45 [==============================] - 0s 1ms/step - loss: 0.5756 - accuracy: 0.8239\n",
      "Epoch 13/15\n",
      "45/45 [==============================] - 0s 1ms/step - loss: 0.5045 - accuracy: 0.8546\n",
      "Epoch 14/15\n",
      "45/45 [==============================] - 0s 1ms/step - loss: 0.5654 - accuracy: 0.8239\n",
      "Epoch 15/15\n",
      "45/45 [==============================] - 0s 1ms/step - loss: 0.5269 - accuracy: 0.8344\n",
      "\n",
      "Training model with stddev = 10\n",
      "Epoch 1/15\n",
      "45/45 [==============================] - 0s 2ms/step - loss: 86.5729 - accuracy: 0.1044\n",
      "Epoch 2/15\n",
      "45/45 [==============================] - 0s 1ms/step - loss: 61.2408 - accuracy: 0.1169\n",
      "Epoch 3/15\n",
      "45/45 [==============================] - 0s 1ms/step - loss: 51.6053 - accuracy: 0.1482\n",
      "Epoch 4/15\n",
      "45/45 [==============================] - 0s 1ms/step - loss: 31.0587 - accuracy: 0.1754\n",
      "Epoch 5/15\n",
      "45/45 [==============================] - 0s 1ms/step - loss: 24.4687 - accuracy: 0.1573\n",
      "Epoch 6/15\n",
      "45/45 [==============================] - 0s 2ms/step - loss: 18.6274 - accuracy: 0.1795\n",
      "Epoch 7/15\n",
      "45/45 [==============================] - 0s 1ms/step - loss: 15.9413 - accuracy: 0.1747\n",
      "Epoch 8/15\n",
      "45/45 [==============================] - 0s 1ms/step - loss: 15.4843 - accuracy: 0.1816\n",
      "Epoch 9/15\n",
      "45/45 [==============================] - 0s 1ms/step - loss: 16.1105 - accuracy: 0.1663\n",
      "Epoch 10/15\n",
      "45/45 [==============================] - 0s 1ms/step - loss: 16.9754 - accuracy: 0.1211\n",
      "Epoch 11/15\n",
      "45/45 [==============================] - 0s 1ms/step - loss: 12.6545 - accuracy: 0.1406\n",
      "Epoch 12/15\n",
      "45/45 [==============================] - 0s 1ms/step - loss: 11.5855 - accuracy: 0.1614\n",
      "Epoch 13/15\n",
      "45/45 [==============================] - 0s 1ms/step - loss: 10.7181 - accuracy: 0.1601\n",
      "Epoch 14/15\n",
      "45/45 [==============================] - 0s 1ms/step - loss: 9.7074 - accuracy: 0.1788\n",
      "Epoch 15/15\n",
      "45/45 [==============================] - 0s 1ms/step - loss: 9.1014 - accuracy: 0.1670\n",
      "\n",
      "Training model with zero initialization\n",
      "Epoch 1/15\n",
      "45/45 [==============================] - 0s 1ms/step - loss: 2.3035 - accuracy: 0.0912\n",
      "Epoch 2/15\n",
      "45/45 [==============================] - 0s 1ms/step - loss: 2.3031 - accuracy: 0.0995\n",
      "Epoch 3/15\n",
      "45/45 [==============================] - 0s 1ms/step - loss: 2.3033 - accuracy: 0.1002\n",
      "Epoch 4/15\n",
      "45/45 [==============================] - 0s 2ms/step - loss: 2.3030 - accuracy: 0.0988\n",
      "Epoch 5/15\n",
      "45/45 [==============================] - 0s 1ms/step - loss: 2.3033 - accuracy: 0.1072\n",
      "Epoch 6/15\n",
      "45/45 [==============================] - 0s 1ms/step - loss: 2.3031 - accuracy: 0.1072\n",
      "Epoch 7/15\n",
      "45/45 [==============================] - 0s 1ms/step - loss: 2.3032 - accuracy: 0.1072\n",
      "Epoch 8/15\n",
      "45/45 [==============================] - 0s 2ms/step - loss: 2.3031 - accuracy: 0.1072\n",
      "Epoch 9/15\n",
      "45/45 [==============================] - 0s 1ms/step - loss: 2.3032 - accuracy: 0.1016\n",
      "Epoch 10/15\n",
      "45/45 [==============================] - 0s 1ms/step - loss: 2.3031 - accuracy: 0.1072\n",
      "Epoch 11/15\n",
      "45/45 [==============================] - 0s 2ms/step - loss: 2.3031 - accuracy: 0.1030\n",
      "Epoch 12/15\n",
      "45/45 [==============================] - 0s 1ms/step - loss: 2.3030 - accuracy: 0.1044\n",
      "Epoch 13/15\n",
      "45/45 [==============================] - 0s 1ms/step - loss: 2.3032 - accuracy: 0.1072\n",
      "Epoch 14/15\n",
      "45/45 [==============================] - 0s 1ms/step - loss: 2.3032 - accuracy: 0.1030\n",
      "Epoch 15/15\n",
      "45/45 [==============================] - 0s 1ms/step - loss: 2.3030 - accuracy: 0.1058\n"
     ]
    },
    {
     "data": {
      "image/png": "[encoded data removed]",
      "text/plain": [
       "<Figure size 1200x400 with 1 Axes>"
      ]
     },
     "metadata": {},
     "output_type": "display_data"
    },
    {
     "data": {
      "image/png": "[encoded data removed]",
      "text/plain": [
       "<Figure size 1200x400 with 1 Axes>"
      ]
     },
     "metadata": {},
     "output_type": "display_data"
    },
    {
     "data": {
      "image/png": "[encoded data removed]",
      "text/plain": [
       "<Figure size 1200x400 with 1 Axes>"
      ]
     },
     "metadata": {},
     "output_type": "display_data"
    },
    {
     "data": {
      "image/png": "[encoded data removed]",
      "text/plain": [
       "<Figure size 1200x400 with 1 Axes>"
      ]
     },
     "metadata": {},
     "output_type": "display_data"
    }
   ],
   "source": [
    "from tensorflow.keras import initializers\n",
    "from tensorflow.keras import optimizers\n",
    "\n",
    "input_dim = 64\n",
    "hidden_dim = 64\n",
    "output_dim = 10\n",
    "\n",
    "stddev_values = [1e-3, 1, 10]\n",
    "\n",
    "# Loop over the standard deviation\n",
    "for stddev in stddev_values:\n",
    "    print(f'\\nTraining model with stddev = {stddev}')\n",
    "\n",
    "    # Define the initializer\n",
    "    normal_init = initializers.TruncatedNormal(stddev=stddev, seed=42)        # get weight functions from a normal distribution\n",
    "\n",
    "    # Define the model\n",
    "    model = Sequential()\n",
    "    model.add(Dense(hidden_dim, input_dim=input_dim, activation=\"tanh\", kernel_initializer=normal_init))\n",
    "    model.add(Dense(hidden_dim, activation=\"tanh\", kernel_initializer=normal_init))\n",
    "    model.add(Dense(output_dim, activation=\"softmax\", kernel_initializer=normal_init))\n",
    "\n",
    "    # Compile the model\n",
    "    model.compile(optimizer=optimizers.SGD(learning_rate=0.1), loss='categorical_crossentropy', metrics=['accuracy'])\n",
    "\n",
    "    # Train the model\n",
    "    history = model.fit(X_train, y_train, epochs=15, batch_size=32)\n",
    "    plt.figure(figsize=(12, 4))\n",
    "    plt.plot(history.history['loss'], label=\"Truncated Normal init\")\n",
    "    plt.legend()\n",
    "\n",
    "# Initialize all weights to zero\n",
    "print('\\nTraining model with zero initialization')\n",
    "zero_init = initializers.Zeros()\n",
    "\n",
    "# Define the model\n",
    "model = Sequential()\n",
    "model.add(Dense(hidden_dim, input_dim=input_dim, activation=\"tanh\", kernel_initializer=zero_init))\n",
    "model.add(Dense(hidden_dim, activation=\"tanh\", kernel_initializer=zero_init))\n",
    "model.add(Dense(output_dim, activation=\"softmax\", kernel_initializer=zero_init))\n",
    "\n",
    "# Compile the model\n",
    "model.compile(optimizer=optimizers.SGD(learning_rate=0.1), loss='categorical_crossentropy', metrics=['accuracy'])\n",
    "\n",
    "# Train the model\n",
    "history = model.fit(X_train, y_train, epochs=15, batch_size=32)\n",
    "plt.figure(figsize=(12, 4))\n",
    "plt.plot(history.history['loss'], label=\"Truncated Normal init\")\n",
    "plt.legend();"
   ]
  }
 ],
 "metadata": {
  "file_extension": ".py",
  "kernelspec": {
   "display_name": "dsi_participant",
   "language": "python",
   "name": "python3"
  },
  "language_info": {
   "codemirror_mode": {
    "name": "ipython",
    "version": 3
   },
   "file_extension": ".py",
   "mimetype": "text/x-python",
   "name": "python",
   "nbconvert_exporter": "python",
   "pygments_lexer": "ipython3",
   "version": "3.9.15"
  },
  "mimetype": "text/x-python",
  "name": "python",
  "npconvert_exporter": "python",
  "pygments_lexer": "ipython3",
  "toc": {
   "base_numbering": 1,
   "nav_menu": {},
   "number_sections": true,
   "sideBar": true,
   "skip_h1_title": false,
   "title_cell": "Table of Contents",
   "title_sidebar": "Contents",
   "toc_cell": false,
   "toc_position": {},
   "toc_section_display": true,
   "toc_window_display": false
  },
  "version": 3
 },
 "nbformat": 4,
 "nbformat_minor": 4
}
